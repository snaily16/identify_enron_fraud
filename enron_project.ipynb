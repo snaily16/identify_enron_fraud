{
 "cells": [
  {
   "cell_type": "markdown",
   "metadata": {},
   "source": [
    "# Data Exploration"
   ]
  },
  {
   "cell_type": "code",
   "execution_count": 1,
   "metadata": {},
   "outputs": [
    {
     "name": "stderr",
     "output_type": "stream",
     "text": [
      "/home/snaily/.local/lib/python2.7/site-packages/sklearn/cross_validation.py:41: DeprecationWarning: This module was deprecated in version 0.18 in favor of the model_selection module into which all the refactored classes and functions are moved. Also note that the interface of the new CV iterators are different from that of this module. This module will be removed in 0.20.\n",
      "  \"This module will be removed in 0.20.\", DeprecationWarning)\n"
     ]
    }
   ],
   "source": [
    "import sys\n",
    "import pickle\n",
    "import re\n",
    "import pandas as pd \n",
    "import numpy as np\n",
    "import seaborn as sns\n",
    "sys.path.append(\"../tools/\")\n",
    "import matplotlib.pyplot as plt\n",
    "from feature_format import featureFormat, targetFeatureSplit\n",
    "from tester import dump_classifier_and_data\n",
    "from sklearn.cross_validation import train_test_split\n",
    "from sklearn.preprocessing import MaxAbsScaler, StandardScaler\n",
    "from sklearn.pipeline import Pipeline\n",
    "from sklearn.decomposition import PCA\n",
    "from sklearn.svm import LinearSVC, SVC\n",
    "from sklearn.ensemble import RandomForestClassifier, AdaBoostClassifier\n",
    "from sklearn.neighbors import KNeighborsClassifier\n",
    "from sklearn.tree import DecisionTreeClassifier\n",
    "from sklearn.naive_bayes import GaussianNB\n",
    "from sklearn.model_selection import GridSearchCV, StratifiedShuffleSplit\n",
    "from tester import test_classifier\n",
    "from sklearn.feature_selection import SelectPercentile, SelectKBest\n",
    "import warnings"
   ]
  },
  {
   "cell_type": "code",
   "execution_count": 2,
   "metadata": {},
   "outputs": [
    {
     "data": {
      "text/plain": [
       "(146, 21)"
      ]
     },
     "execution_count": 2,
     "metadata": {},
     "output_type": "execute_result"
    }
   ],
   "source": [
    "with open(\"final_project_dataset.pkl\", \"r\") as data_file:\n",
    "    data_dict = pickle.load(data_file)\n",
    "\n",
    "#converting data to pandas dataframe\n",
    "data_df = pd.DataFrame.from_dict(data_dict, orient='index')\n",
    "data_df.shape"
   ]
  },
  {
   "cell_type": "code",
   "execution_count": 3,
   "metadata": {},
   "outputs": [
    {
     "data": {
      "text/html": [
       "<div>\n",
       "<style>\n",
       "    .dataframe thead tr:only-child th {\n",
       "        text-align: right;\n",
       "    }\n",
       "\n",
       "    .dataframe thead th {\n",
       "        text-align: left;\n",
       "    }\n",
       "\n",
       "    .dataframe tbody tr th {\n",
       "        vertical-align: top;\n",
       "    }\n",
       "</style>\n",
       "<table border=\"1\" class=\"dataframe\">\n",
       "  <thead>\n",
       "    <tr style=\"text-align: right;\">\n",
       "      <th></th>\n",
       "      <th>salary</th>\n",
       "      <th>to_messages</th>\n",
       "      <th>deferral_payments</th>\n",
       "      <th>total_payments</th>\n",
       "      <th>exercised_stock_options</th>\n",
       "      <th>bonus</th>\n",
       "      <th>restricted_stock</th>\n",
       "      <th>shared_receipt_with_poi</th>\n",
       "      <th>restricted_stock_deferred</th>\n",
       "      <th>total_stock_value</th>\n",
       "      <th>...</th>\n",
       "      <th>loan_advances</th>\n",
       "      <th>from_messages</th>\n",
       "      <th>other</th>\n",
       "      <th>from_this_person_to_poi</th>\n",
       "      <th>poi</th>\n",
       "      <th>director_fees</th>\n",
       "      <th>deferred_income</th>\n",
       "      <th>long_term_incentive</th>\n",
       "      <th>email_address</th>\n",
       "      <th>from_poi_to_this_person</th>\n",
       "    </tr>\n",
       "  </thead>\n",
       "  <tbody>\n",
       "    <tr>\n",
       "      <th>ALLEN PHILLIP K</th>\n",
       "      <td>201955</td>\n",
       "      <td>2902</td>\n",
       "      <td>2869717</td>\n",
       "      <td>4484442</td>\n",
       "      <td>1729541</td>\n",
       "      <td>4175000</td>\n",
       "      <td>126027</td>\n",
       "      <td>1407</td>\n",
       "      <td>-126027</td>\n",
       "      <td>1729541</td>\n",
       "      <td>...</td>\n",
       "      <td>NaN</td>\n",
       "      <td>2195</td>\n",
       "      <td>152</td>\n",
       "      <td>65</td>\n",
       "      <td>False</td>\n",
       "      <td>NaN</td>\n",
       "      <td>-3081055</td>\n",
       "      <td>304805</td>\n",
       "      <td>phillip.allen@enron.com</td>\n",
       "      <td>47</td>\n",
       "    </tr>\n",
       "    <tr>\n",
       "      <th>BADUM JAMES P</th>\n",
       "      <td>NaN</td>\n",
       "      <td>NaN</td>\n",
       "      <td>178980</td>\n",
       "      <td>182466</td>\n",
       "      <td>257817</td>\n",
       "      <td>NaN</td>\n",
       "      <td>NaN</td>\n",
       "      <td>NaN</td>\n",
       "      <td>NaN</td>\n",
       "      <td>257817</td>\n",
       "      <td>...</td>\n",
       "      <td>NaN</td>\n",
       "      <td>NaN</td>\n",
       "      <td>NaN</td>\n",
       "      <td>NaN</td>\n",
       "      <td>False</td>\n",
       "      <td>NaN</td>\n",
       "      <td>NaN</td>\n",
       "      <td>NaN</td>\n",
       "      <td>NaN</td>\n",
       "      <td>NaN</td>\n",
       "    </tr>\n",
       "    <tr>\n",
       "      <th>BANNANTINE JAMES M</th>\n",
       "      <td>477</td>\n",
       "      <td>566</td>\n",
       "      <td>NaN</td>\n",
       "      <td>916197</td>\n",
       "      <td>4046157</td>\n",
       "      <td>NaN</td>\n",
       "      <td>1757552</td>\n",
       "      <td>465</td>\n",
       "      <td>-560222</td>\n",
       "      <td>5243487</td>\n",
       "      <td>...</td>\n",
       "      <td>NaN</td>\n",
       "      <td>29</td>\n",
       "      <td>864523</td>\n",
       "      <td>0</td>\n",
       "      <td>False</td>\n",
       "      <td>NaN</td>\n",
       "      <td>-5104</td>\n",
       "      <td>NaN</td>\n",
       "      <td>james.bannantine@enron.com</td>\n",
       "      <td>39</td>\n",
       "    </tr>\n",
       "    <tr>\n",
       "      <th>BAXTER JOHN C</th>\n",
       "      <td>267102</td>\n",
       "      <td>NaN</td>\n",
       "      <td>1295738</td>\n",
       "      <td>5634343</td>\n",
       "      <td>6680544</td>\n",
       "      <td>1200000</td>\n",
       "      <td>3942714</td>\n",
       "      <td>NaN</td>\n",
       "      <td>NaN</td>\n",
       "      <td>10623258</td>\n",
       "      <td>...</td>\n",
       "      <td>NaN</td>\n",
       "      <td>NaN</td>\n",
       "      <td>2660303</td>\n",
       "      <td>NaN</td>\n",
       "      <td>False</td>\n",
       "      <td>NaN</td>\n",
       "      <td>-1386055</td>\n",
       "      <td>1586055</td>\n",
       "      <td>NaN</td>\n",
       "      <td>NaN</td>\n",
       "    </tr>\n",
       "    <tr>\n",
       "      <th>BAY FRANKLIN R</th>\n",
       "      <td>239671</td>\n",
       "      <td>NaN</td>\n",
       "      <td>260455</td>\n",
       "      <td>827696</td>\n",
       "      <td>NaN</td>\n",
       "      <td>400000</td>\n",
       "      <td>145796</td>\n",
       "      <td>NaN</td>\n",
       "      <td>-82782</td>\n",
       "      <td>63014</td>\n",
       "      <td>...</td>\n",
       "      <td>NaN</td>\n",
       "      <td>NaN</td>\n",
       "      <td>69</td>\n",
       "      <td>NaN</td>\n",
       "      <td>False</td>\n",
       "      <td>NaN</td>\n",
       "      <td>-201641</td>\n",
       "      <td>NaN</td>\n",
       "      <td>frank.bay@enron.com</td>\n",
       "      <td>NaN</td>\n",
       "    </tr>\n",
       "  </tbody>\n",
       "</table>\n",
       "<p>5 rows × 21 columns</p>\n",
       "</div>"
      ],
      "text/plain": [
       "                    salary to_messages deferral_payments total_payments  \\\n",
       "ALLEN PHILLIP K     201955        2902           2869717        4484442   \n",
       "BADUM JAMES P          NaN         NaN            178980         182466   \n",
       "BANNANTINE JAMES M     477         566               NaN         916197   \n",
       "BAXTER JOHN C       267102         NaN           1295738        5634343   \n",
       "BAY FRANKLIN R      239671         NaN            260455         827696   \n",
       "\n",
       "                   exercised_stock_options    bonus restricted_stock  \\\n",
       "ALLEN PHILLIP K                    1729541  4175000           126027   \n",
       "BADUM JAMES P                       257817      NaN              NaN   \n",
       "BANNANTINE JAMES M                 4046157      NaN          1757552   \n",
       "BAXTER JOHN C                      6680544  1200000          3942714   \n",
       "BAY FRANKLIN R                         NaN   400000           145796   \n",
       "\n",
       "                   shared_receipt_with_poi restricted_stock_deferred  \\\n",
       "ALLEN PHILLIP K                       1407                   -126027   \n",
       "BADUM JAMES P                          NaN                       NaN   \n",
       "BANNANTINE JAMES M                     465                   -560222   \n",
       "BAXTER JOHN C                          NaN                       NaN   \n",
       "BAY FRANKLIN R                         NaN                    -82782   \n",
       "\n",
       "                   total_stock_value           ...           loan_advances  \\\n",
       "ALLEN PHILLIP K              1729541           ...                     NaN   \n",
       "BADUM JAMES P                 257817           ...                     NaN   \n",
       "BANNANTINE JAMES M           5243487           ...                     NaN   \n",
       "BAXTER JOHN C               10623258           ...                     NaN   \n",
       "BAY FRANKLIN R                 63014           ...                     NaN   \n",
       "\n",
       "                   from_messages    other from_this_person_to_poi    poi  \\\n",
       "ALLEN PHILLIP K             2195      152                      65  False   \n",
       "BADUM JAMES P                NaN      NaN                     NaN  False   \n",
       "BANNANTINE JAMES M            29   864523                       0  False   \n",
       "BAXTER JOHN C                NaN  2660303                     NaN  False   \n",
       "BAY FRANKLIN R               NaN       69                     NaN  False   \n",
       "\n",
       "                    director_fees deferred_income long_term_incentive  \\\n",
       "ALLEN PHILLIP K               NaN        -3081055              304805   \n",
       "BADUM JAMES P                 NaN             NaN                 NaN   \n",
       "BANNANTINE JAMES M            NaN           -5104                 NaN   \n",
       "BAXTER JOHN C                 NaN        -1386055             1586055   \n",
       "BAY FRANKLIN R                NaN         -201641                 NaN   \n",
       "\n",
       "                                 email_address from_poi_to_this_person  \n",
       "ALLEN PHILLIP K        phillip.allen@enron.com                      47  \n",
       "BADUM JAMES P                              NaN                     NaN  \n",
       "BANNANTINE JAMES M  james.bannantine@enron.com                      39  \n",
       "BAXTER JOHN C                              NaN                     NaN  \n",
       "BAY FRANKLIN R             frank.bay@enron.com                     NaN  \n",
       "\n",
       "[5 rows x 21 columns]"
      ]
     },
     "execution_count": 3,
     "metadata": {},
     "output_type": "execute_result"
    }
   ],
   "source": [
    "data_df.head()"
   ]
  },
  {
   "cell_type": "code",
   "execution_count": 4,
   "metadata": {},
   "outputs": [
    {
     "data": {
      "text/plain": [
       "salary                       146\n",
       "long_term_incentive          146\n",
       "deferred_income              146\n",
       "director_fees                146\n",
       "poi                          146\n",
       "from_this_person_to_poi      146\n",
       "other                        146\n",
       "from_messages                146\n",
       "loan_advances                146\n",
       "email_address                146\n",
       "expenses                     146\n",
       "restricted_stock_deferred    146\n",
       "shared_receipt_with_poi      146\n",
       "restricted_stock             146\n",
       "bonus                        146\n",
       "exercised_stock_options      146\n",
       "total_payments               146\n",
       "deferral_payments            146\n",
       "to_messages                  146\n",
       "total_stock_value            146\n",
       "from_poi_to_this_person      146\n",
       "dtype: int64"
      ]
     },
     "execution_count": 4,
     "metadata": {},
     "output_type": "execute_result"
    }
   ],
   "source": [
    "data_df.count().sort_values()"
   ]
  },
  {
   "cell_type": "markdown",
   "metadata": {},
   "source": [
    "The dataset is quite sparse with some variables like total_payments, total_stock_value having values for most of the employees, but some others like loan_advances, director_fees that have information for too few employees"
   ]
  },
  {
   "cell_type": "markdown",
   "metadata": {},
   "source": [
    "Remove email_address field since we cannot use it somehow in the analysis and create a temporary copy without POI label"
   ]
  },
  {
   "cell_type": "code",
   "execution_count": 5,
   "metadata": {},
   "outputs": [
    {
     "data": {
      "text/html": [
       "<div>\n",
       "<style>\n",
       "    .dataframe thead tr:only-child th {\n",
       "        text-align: right;\n",
       "    }\n",
       "\n",
       "    .dataframe thead th {\n",
       "        text-align: left;\n",
       "    }\n",
       "\n",
       "    .dataframe tbody tr th {\n",
       "        vertical-align: top;\n",
       "    }\n",
       "</style>\n",
       "<table border=\"1\" class=\"dataframe\">\n",
       "  <thead>\n",
       "    <tr style=\"text-align: right;\">\n",
       "      <th></th>\n",
       "      <th>salary</th>\n",
       "      <th>to_messages</th>\n",
       "      <th>deferral_payments</th>\n",
       "      <th>total_payments</th>\n",
       "      <th>exercised_stock_options</th>\n",
       "      <th>bonus</th>\n",
       "      <th>restricted_stock</th>\n",
       "      <th>shared_receipt_with_poi</th>\n",
       "      <th>restricted_stock_deferred</th>\n",
       "      <th>total_stock_value</th>\n",
       "      <th>expenses</th>\n",
       "      <th>loan_advances</th>\n",
       "      <th>from_messages</th>\n",
       "      <th>other</th>\n",
       "      <th>from_this_person_to_poi</th>\n",
       "      <th>director_fees</th>\n",
       "      <th>deferred_income</th>\n",
       "      <th>long_term_incentive</th>\n",
       "      <th>from_poi_to_this_person</th>\n",
       "    </tr>\n",
       "  </thead>\n",
       "  <tbody>\n",
       "  </tbody>\n",
       "</table>\n",
       "</div>"
      ],
      "text/plain": [
       "Empty DataFrame\n",
       "Columns: [salary, to_messages, deferral_payments, total_payments, exercised_stock_options, bonus, restricted_stock, shared_receipt_with_poi, restricted_stock_deferred, total_stock_value, expenses, loan_advances, from_messages, other, from_this_person_to_poi, director_fees, deferred_income, long_term_incentive, from_poi_to_this_person]\n",
       "Index: []"
      ]
     },
     "execution_count": 5,
     "metadata": {},
     "output_type": "execute_result"
    }
   ],
   "source": [
    "data_df = data_df.drop(['email_address'], axis = 1)\n",
    "data_temp = data_df.drop(['poi'], axis=1)\n",
    "data_temp[data_temp.isnull().all(axis=1)]"
   ]
  },
  {
   "cell_type": "markdown",
   "metadata": {},
   "source": [
    "LOCKHART EUGENE E has all the values missing and shall be removed"
   ]
  },
  {
   "cell_type": "code",
   "execution_count": 6,
   "metadata": {},
   "outputs": [],
   "source": [
    "data_df = data_df.drop(['LOCKHART EUGENE E'], axis=0)"
   ]
  },
  {
   "cell_type": "code",
   "execution_count": 7,
   "metadata": {},
   "outputs": [
    {
     "data": {
      "text/html": [
       "<div>\n",
       "<style>\n",
       "    .dataframe thead tr:only-child th {\n",
       "        text-align: right;\n",
       "    }\n",
       "\n",
       "    .dataframe thead th {\n",
       "        text-align: left;\n",
       "    }\n",
       "\n",
       "    .dataframe tbody tr th {\n",
       "        vertical-align: top;\n",
       "    }\n",
       "</style>\n",
       "<table border=\"1\" class=\"dataframe\">\n",
       "  <thead>\n",
       "    <tr style=\"text-align: right;\">\n",
       "      <th></th>\n",
       "      <th>poi</th>\n",
       "      <th>salary</th>\n",
       "      <th>bonus</th>\n",
       "      <th>long_term_incentive</th>\n",
       "      <th>deferred_income</th>\n",
       "      <th>deferral_payments</th>\n",
       "      <th>loan_advances</th>\n",
       "      <th>other</th>\n",
       "      <th>expenses</th>\n",
       "      <th>director_fees</th>\n",
       "      <th>total_payments</th>\n",
       "      <th>exercised_stock_options</th>\n",
       "      <th>restricted_stock</th>\n",
       "      <th>restricted_stock_deferred</th>\n",
       "      <th>total_stock_value</th>\n",
       "      <th>from_poi_to_this_person</th>\n",
       "      <th>shared_receipt_with_poi</th>\n",
       "      <th>to_messages</th>\n",
       "      <th>from_this_person_to_poi</th>\n",
       "      <th>from_messages</th>\n",
       "    </tr>\n",
       "  </thead>\n",
       "  <tbody>\n",
       "    <tr>\n",
       "      <th>ALLEN PHILLIP K</th>\n",
       "      <td>False</td>\n",
       "      <td>201955</td>\n",
       "      <td>4175000</td>\n",
       "      <td>304805</td>\n",
       "      <td>-3081055</td>\n",
       "      <td>2869717</td>\n",
       "      <td>NaN</td>\n",
       "      <td>152</td>\n",
       "      <td>13868</td>\n",
       "      <td>NaN</td>\n",
       "      <td>4484442</td>\n",
       "      <td>1729541</td>\n",
       "      <td>126027</td>\n",
       "      <td>-126027</td>\n",
       "      <td>1729541</td>\n",
       "      <td>47</td>\n",
       "      <td>1407</td>\n",
       "      <td>2902</td>\n",
       "      <td>65</td>\n",
       "      <td>2195</td>\n",
       "    </tr>\n",
       "    <tr>\n",
       "      <th>BADUM JAMES P</th>\n",
       "      <td>False</td>\n",
       "      <td>NaN</td>\n",
       "      <td>NaN</td>\n",
       "      <td>NaN</td>\n",
       "      <td>NaN</td>\n",
       "      <td>178980</td>\n",
       "      <td>NaN</td>\n",
       "      <td>NaN</td>\n",
       "      <td>3486</td>\n",
       "      <td>NaN</td>\n",
       "      <td>182466</td>\n",
       "      <td>257817</td>\n",
       "      <td>NaN</td>\n",
       "      <td>NaN</td>\n",
       "      <td>257817</td>\n",
       "      <td>NaN</td>\n",
       "      <td>NaN</td>\n",
       "      <td>NaN</td>\n",
       "      <td>NaN</td>\n",
       "      <td>NaN</td>\n",
       "    </tr>\n",
       "    <tr>\n",
       "      <th>BANNANTINE JAMES M</th>\n",
       "      <td>False</td>\n",
       "      <td>477</td>\n",
       "      <td>NaN</td>\n",
       "      <td>NaN</td>\n",
       "      <td>-5104</td>\n",
       "      <td>NaN</td>\n",
       "      <td>NaN</td>\n",
       "      <td>864523</td>\n",
       "      <td>56301</td>\n",
       "      <td>NaN</td>\n",
       "      <td>916197</td>\n",
       "      <td>4046157</td>\n",
       "      <td>1757552</td>\n",
       "      <td>-560222</td>\n",
       "      <td>5243487</td>\n",
       "      <td>39</td>\n",
       "      <td>465</td>\n",
       "      <td>566</td>\n",
       "      <td>0</td>\n",
       "      <td>29</td>\n",
       "    </tr>\n",
       "    <tr>\n",
       "      <th>BAXTER JOHN C</th>\n",
       "      <td>False</td>\n",
       "      <td>267102</td>\n",
       "      <td>1200000</td>\n",
       "      <td>1586055</td>\n",
       "      <td>-1386055</td>\n",
       "      <td>1295738</td>\n",
       "      <td>NaN</td>\n",
       "      <td>2660303</td>\n",
       "      <td>11200</td>\n",
       "      <td>NaN</td>\n",
       "      <td>5634343</td>\n",
       "      <td>6680544</td>\n",
       "      <td>3942714</td>\n",
       "      <td>NaN</td>\n",
       "      <td>10623258</td>\n",
       "      <td>NaN</td>\n",
       "      <td>NaN</td>\n",
       "      <td>NaN</td>\n",
       "      <td>NaN</td>\n",
       "      <td>NaN</td>\n",
       "    </tr>\n",
       "    <tr>\n",
       "      <th>BAY FRANKLIN R</th>\n",
       "      <td>False</td>\n",
       "      <td>239671</td>\n",
       "      <td>400000</td>\n",
       "      <td>NaN</td>\n",
       "      <td>-201641</td>\n",
       "      <td>260455</td>\n",
       "      <td>NaN</td>\n",
       "      <td>69</td>\n",
       "      <td>129142</td>\n",
       "      <td>NaN</td>\n",
       "      <td>827696</td>\n",
       "      <td>NaN</td>\n",
       "      <td>145796</td>\n",
       "      <td>-82782</td>\n",
       "      <td>63014</td>\n",
       "      <td>NaN</td>\n",
       "      <td>NaN</td>\n",
       "      <td>NaN</td>\n",
       "      <td>NaN</td>\n",
       "      <td>NaN</td>\n",
       "    </tr>\n",
       "  </tbody>\n",
       "</table>\n",
       "</div>"
      ],
      "text/plain": [
       "                      poi  salary    bonus long_term_incentive  \\\n",
       "ALLEN PHILLIP K     False  201955  4175000              304805   \n",
       "BADUM JAMES P       False     NaN      NaN                 NaN   \n",
       "BANNANTINE JAMES M  False     477      NaN                 NaN   \n",
       "BAXTER JOHN C       False  267102  1200000             1586055   \n",
       "BAY FRANKLIN R      False  239671   400000                 NaN   \n",
       "\n",
       "                   deferred_income deferral_payments loan_advances    other  \\\n",
       "ALLEN PHILLIP K           -3081055           2869717           NaN      152   \n",
       "BADUM JAMES P                  NaN            178980           NaN      NaN   \n",
       "BANNANTINE JAMES M           -5104               NaN           NaN   864523   \n",
       "BAXTER JOHN C             -1386055           1295738           NaN  2660303   \n",
       "BAY FRANKLIN R             -201641            260455           NaN       69   \n",
       "\n",
       "                   expenses director_fees total_payments  \\\n",
       "ALLEN PHILLIP K       13868           NaN        4484442   \n",
       "BADUM JAMES P          3486           NaN         182466   \n",
       "BANNANTINE JAMES M    56301           NaN         916197   \n",
       "BAXTER JOHN C         11200           NaN        5634343   \n",
       "BAY FRANKLIN R       129142           NaN         827696   \n",
       "\n",
       "                   exercised_stock_options restricted_stock  \\\n",
       "ALLEN PHILLIP K                    1729541           126027   \n",
       "BADUM JAMES P                       257817              NaN   \n",
       "BANNANTINE JAMES M                 4046157          1757552   \n",
       "BAXTER JOHN C                      6680544          3942714   \n",
       "BAY FRANKLIN R                         NaN           145796   \n",
       "\n",
       "                   restricted_stock_deferred total_stock_value  \\\n",
       "ALLEN PHILLIP K                      -126027           1729541   \n",
       "BADUM JAMES P                            NaN            257817   \n",
       "BANNANTINE JAMES M                   -560222           5243487   \n",
       "BAXTER JOHN C                            NaN          10623258   \n",
       "BAY FRANKLIN R                        -82782             63014   \n",
       "\n",
       "                   from_poi_to_this_person shared_receipt_with_poi  \\\n",
       "ALLEN PHILLIP K                         47                    1407   \n",
       "BADUM JAMES P                          NaN                     NaN   \n",
       "BANNANTINE JAMES M                      39                     465   \n",
       "BAXTER JOHN C                          NaN                     NaN   \n",
       "BAY FRANKLIN R                         NaN                     NaN   \n",
       "\n",
       "                   to_messages from_this_person_to_poi from_messages  \n",
       "ALLEN PHILLIP K           2902                      65          2195  \n",
       "BADUM JAMES P              NaN                     NaN           NaN  \n",
       "BANNANTINE JAMES M         566                       0            29  \n",
       "BAXTER JOHN C              NaN                     NaN           NaN  \n",
       "BAY FRANKLIN R             NaN                     NaN           NaN  "
      ]
     },
     "execution_count": 7,
     "metadata": {},
     "output_type": "execute_result"
    }
   ],
   "source": [
    "#since some values are related\n",
    "#rearrange the columns in the following order\n",
    "cols = [\n",
    "    'poi', 'salary', 'bonus', 'long_term_incentive', 'deferred_income',\n",
    "    'deferral_payments', 'loan_advances', 'other', 'expenses', 'director_fees',\n",
    "    'total_payments', 'exercised_stock_options', 'restricted_stock',\n",
    "    'restricted_stock_deferred', 'total_stock_value',\n",
    "    'from_poi_to_this_person', 'shared_receipt_with_poi', 'to_messages',\n",
    "    'from_this_person_to_poi', 'from_messages'\n",
    "]\n",
    "data_df = data_df[cols]\n",
    "data_df.head()"
   ]
  },
  {
   "cell_type": "code",
   "execution_count": 8,
   "metadata": {},
   "outputs": [],
   "source": [
    "data_df.replace(to_replace=\"NaN\", value=0, inplace=True)"
   ]
  },
  {
   "cell_type": "code",
   "execution_count": 9,
   "metadata": {},
   "outputs": [
    {
     "data": {
      "text/html": [
       "<div>\n",
       "<style>\n",
       "    .dataframe thead tr:only-child th {\n",
       "        text-align: right;\n",
       "    }\n",
       "\n",
       "    .dataframe thead th {\n",
       "        text-align: left;\n",
       "    }\n",
       "\n",
       "    .dataframe tbody tr th {\n",
       "        vertical-align: top;\n",
       "    }\n",
       "</style>\n",
       "<table border=\"1\" class=\"dataframe\">\n",
       "  <thead>\n",
       "    <tr style=\"text-align: right;\">\n",
       "      <th></th>\n",
       "      <th>salary</th>\n",
       "      <th>bonus</th>\n",
       "      <th>long_term_incentive</th>\n",
       "      <th>deferred_income</th>\n",
       "      <th>deferral_payments</th>\n",
       "      <th>loan_advances</th>\n",
       "      <th>other</th>\n",
       "      <th>expenses</th>\n",
       "      <th>director_fees</th>\n",
       "      <th>total_payments</th>\n",
       "      <th>exercised_stock_options</th>\n",
       "      <th>restricted_stock</th>\n",
       "      <th>restricted_stock_deferred</th>\n",
       "      <th>total_stock_value</th>\n",
       "      <th>from_poi_to_this_person</th>\n",
       "      <th>shared_receipt_with_poi</th>\n",
       "      <th>to_messages</th>\n",
       "      <th>from_this_person_to_poi</th>\n",
       "      <th>from_messages</th>\n",
       "    </tr>\n",
       "  </thead>\n",
       "  <tbody>\n",
       "    <tr>\n",
       "      <th>count</th>\n",
       "      <td>1.450000e+02</td>\n",
       "      <td>1.450000e+02</td>\n",
       "      <td>1.450000e+02</td>\n",
       "      <td>1.450000e+02</td>\n",
       "      <td>1.450000e+02</td>\n",
       "      <td>1.450000e+02</td>\n",
       "      <td>1.450000e+02</td>\n",
       "      <td>1.450000e+02</td>\n",
       "      <td>1.450000e+02</td>\n",
       "      <td>1.450000e+02</td>\n",
       "      <td>1.450000e+02</td>\n",
       "      <td>1.450000e+02</td>\n",
       "      <td>1.450000e+02</td>\n",
       "      <td>1.450000e+02</td>\n",
       "      <td>145.000000</td>\n",
       "      <td>145.000000</td>\n",
       "      <td>145.000000</td>\n",
       "      <td>145.000000</td>\n",
       "      <td>145.000000</td>\n",
       "    </tr>\n",
       "    <tr>\n",
       "      <th>mean</th>\n",
       "      <td>3.683342e+05</td>\n",
       "      <td>1.342671e+06</td>\n",
       "      <td>6.692680e+05</td>\n",
       "      <td>-3.854019e+05</td>\n",
       "      <td>4.418227e+05</td>\n",
       "      <td>1.157586e+06</td>\n",
       "      <td>5.894693e+05</td>\n",
       "      <td>7.123619e+04</td>\n",
       "      <td>1.955643e+04</td>\n",
       "      <td>4.380626e+06</td>\n",
       "      <td>4.211583e+06</td>\n",
       "      <td>1.761321e+06</td>\n",
       "      <td>2.065786e+04</td>\n",
       "      <td>5.886335e+06</td>\n",
       "      <td>38.489655</td>\n",
       "      <td>697.765517</td>\n",
       "      <td>1230.013793</td>\n",
       "      <td>24.455172</td>\n",
       "      <td>361.075862</td>\n",
       "    </tr>\n",
       "    <tr>\n",
       "      <th>std</th>\n",
       "      <td>2.211001e+06</td>\n",
       "      <td>8.121319e+06</td>\n",
       "      <td>4.059716e+06</td>\n",
       "      <td>2.386279e+06</td>\n",
       "      <td>2.750583e+06</td>\n",
       "      <td>9.682311e+06</td>\n",
       "      <td>3.694784e+06</td>\n",
       "      <td>4.341759e+05</td>\n",
       "      <td>1.194559e+05</td>\n",
       "      <td>2.702539e+07</td>\n",
       "      <td>2.615843e+07</td>\n",
       "      <td>1.093676e+07</td>\n",
       "      <td>1.444650e+06</td>\n",
       "      <td>3.636916e+07</td>\n",
       "      <td>74.088359</td>\n",
       "      <td>1075.128126</td>\n",
       "      <td>2232.153003</td>\n",
       "      <td>79.527073</td>\n",
       "      <td>1445.944684</td>\n",
       "    </tr>\n",
       "    <tr>\n",
       "      <th>min</th>\n",
       "      <td>0.000000e+00</td>\n",
       "      <td>0.000000e+00</td>\n",
       "      <td>0.000000e+00</td>\n",
       "      <td>-2.799289e+07</td>\n",
       "      <td>-1.025000e+05</td>\n",
       "      <td>0.000000e+00</td>\n",
       "      <td>0.000000e+00</td>\n",
       "      <td>0.000000e+00</td>\n",
       "      <td>0.000000e+00</td>\n",
       "      <td>0.000000e+00</td>\n",
       "      <td>0.000000e+00</td>\n",
       "      <td>-2.604490e+06</td>\n",
       "      <td>-7.576788e+06</td>\n",
       "      <td>-4.409300e+04</td>\n",
       "      <td>0.000000</td>\n",
       "      <td>0.000000</td>\n",
       "      <td>0.000000</td>\n",
       "      <td>0.000000</td>\n",
       "      <td>0.000000</td>\n",
       "    </tr>\n",
       "    <tr>\n",
       "      <th>25%</th>\n",
       "      <td>0.000000e+00</td>\n",
       "      <td>0.000000e+00</td>\n",
       "      <td>0.000000e+00</td>\n",
       "      <td>-3.834600e+04</td>\n",
       "      <td>0.000000e+00</td>\n",
       "      <td>0.000000e+00</td>\n",
       "      <td>0.000000e+00</td>\n",
       "      <td>0.000000e+00</td>\n",
       "      <td>0.000000e+00</td>\n",
       "      <td>1.025000e+05</td>\n",
       "      <td>0.000000e+00</td>\n",
       "      <td>3.246000e+04</td>\n",
       "      <td>0.000000e+00</td>\n",
       "      <td>2.520550e+05</td>\n",
       "      <td>0.000000</td>\n",
       "      <td>0.000000</td>\n",
       "      <td>0.000000</td>\n",
       "      <td>0.000000</td>\n",
       "      <td>0.000000</td>\n",
       "    </tr>\n",
       "    <tr>\n",
       "      <th>50%</th>\n",
       "      <td>2.106920e+05</td>\n",
       "      <td>3.000000e+05</td>\n",
       "      <td>0.000000e+00</td>\n",
       "      <td>0.000000e+00</td>\n",
       "      <td>0.000000e+00</td>\n",
       "      <td>0.000000e+00</td>\n",
       "      <td>9.720000e+02</td>\n",
       "      <td>2.153000e+04</td>\n",
       "      <td>0.000000e+00</td>\n",
       "      <td>9.665220e+05</td>\n",
       "      <td>6.087500e+05</td>\n",
       "      <td>3.605280e+05</td>\n",
       "      <td>0.000000e+00</td>\n",
       "      <td>9.760370e+05</td>\n",
       "      <td>4.000000</td>\n",
       "      <td>114.000000</td>\n",
       "      <td>312.000000</td>\n",
       "      <td>0.000000</td>\n",
       "      <td>17.000000</td>\n",
       "    </tr>\n",
       "    <tr>\n",
       "      <th>75%</th>\n",
       "      <td>2.714420e+05</td>\n",
       "      <td>8.000000e+05</td>\n",
       "      <td>3.753040e+05</td>\n",
       "      <td>0.000000e+00</td>\n",
       "      <td>1.025900e+04</td>\n",
       "      <td>0.000000e+00</td>\n",
       "      <td>1.506560e+05</td>\n",
       "      <td>5.394700e+04</td>\n",
       "      <td>0.000000e+00</td>\n",
       "      <td>1.979596e+06</td>\n",
       "      <td>1.729541e+06</td>\n",
       "      <td>8.530640e+05</td>\n",
       "      <td>0.000000e+00</td>\n",
       "      <td>2.332399e+06</td>\n",
       "      <td>41.000000</td>\n",
       "      <td>900.000000</td>\n",
       "      <td>1607.000000</td>\n",
       "      <td>14.000000</td>\n",
       "      <td>52.000000</td>\n",
       "    </tr>\n",
       "    <tr>\n",
       "      <th>max</th>\n",
       "      <td>2.670423e+07</td>\n",
       "      <td>9.734362e+07</td>\n",
       "      <td>4.852193e+07</td>\n",
       "      <td>0.000000e+00</td>\n",
       "      <td>3.208340e+07</td>\n",
       "      <td>8.392500e+07</td>\n",
       "      <td>4.266759e+07</td>\n",
       "      <td>5.235198e+06</td>\n",
       "      <td>1.398517e+06</td>\n",
       "      <td>3.098866e+08</td>\n",
       "      <td>3.117640e+08</td>\n",
       "      <td>1.303223e+08</td>\n",
       "      <td>1.545629e+07</td>\n",
       "      <td>4.345095e+08</td>\n",
       "      <td>528.000000</td>\n",
       "      <td>5521.000000</td>\n",
       "      <td>15149.000000</td>\n",
       "      <td>609.000000</td>\n",
       "      <td>14368.000000</td>\n",
       "    </tr>\n",
       "  </tbody>\n",
       "</table>\n",
       "</div>"
      ],
      "text/plain": [
       "             salary         bonus  long_term_incentive  deferred_income  \\\n",
       "count  1.450000e+02  1.450000e+02         1.450000e+02     1.450000e+02   \n",
       "mean   3.683342e+05  1.342671e+06         6.692680e+05    -3.854019e+05   \n",
       "std    2.211001e+06  8.121319e+06         4.059716e+06     2.386279e+06   \n",
       "min    0.000000e+00  0.000000e+00         0.000000e+00    -2.799289e+07   \n",
       "25%    0.000000e+00  0.000000e+00         0.000000e+00    -3.834600e+04   \n",
       "50%    2.106920e+05  3.000000e+05         0.000000e+00     0.000000e+00   \n",
       "75%    2.714420e+05  8.000000e+05         3.753040e+05     0.000000e+00   \n",
       "max    2.670423e+07  9.734362e+07         4.852193e+07     0.000000e+00   \n",
       "\n",
       "       deferral_payments  loan_advances         other      expenses  \\\n",
       "count       1.450000e+02   1.450000e+02  1.450000e+02  1.450000e+02   \n",
       "mean        4.418227e+05   1.157586e+06  5.894693e+05  7.123619e+04   \n",
       "std         2.750583e+06   9.682311e+06  3.694784e+06  4.341759e+05   \n",
       "min        -1.025000e+05   0.000000e+00  0.000000e+00  0.000000e+00   \n",
       "25%         0.000000e+00   0.000000e+00  0.000000e+00  0.000000e+00   \n",
       "50%         0.000000e+00   0.000000e+00  9.720000e+02  2.153000e+04   \n",
       "75%         1.025900e+04   0.000000e+00  1.506560e+05  5.394700e+04   \n",
       "max         3.208340e+07   8.392500e+07  4.266759e+07  5.235198e+06   \n",
       "\n",
       "       director_fees  total_payments  exercised_stock_options  \\\n",
       "count   1.450000e+02    1.450000e+02             1.450000e+02   \n",
       "mean    1.955643e+04    4.380626e+06             4.211583e+06   \n",
       "std     1.194559e+05    2.702539e+07             2.615843e+07   \n",
       "min     0.000000e+00    0.000000e+00             0.000000e+00   \n",
       "25%     0.000000e+00    1.025000e+05             0.000000e+00   \n",
       "50%     0.000000e+00    9.665220e+05             6.087500e+05   \n",
       "75%     0.000000e+00    1.979596e+06             1.729541e+06   \n",
       "max     1.398517e+06    3.098866e+08             3.117640e+08   \n",
       "\n",
       "       restricted_stock  restricted_stock_deferred  total_stock_value  \\\n",
       "count      1.450000e+02               1.450000e+02       1.450000e+02   \n",
       "mean       1.761321e+06               2.065786e+04       5.886335e+06   \n",
       "std        1.093676e+07               1.444650e+06       3.636916e+07   \n",
       "min       -2.604490e+06              -7.576788e+06      -4.409300e+04   \n",
       "25%        3.246000e+04               0.000000e+00       2.520550e+05   \n",
       "50%        3.605280e+05               0.000000e+00       9.760370e+05   \n",
       "75%        8.530640e+05               0.000000e+00       2.332399e+06   \n",
       "max        1.303223e+08               1.545629e+07       4.345095e+08   \n",
       "\n",
       "       from_poi_to_this_person  shared_receipt_with_poi   to_messages  \\\n",
       "count               145.000000               145.000000    145.000000   \n",
       "mean                 38.489655               697.765517   1230.013793   \n",
       "std                  74.088359              1075.128126   2232.153003   \n",
       "min                   0.000000                 0.000000      0.000000   \n",
       "25%                   0.000000                 0.000000      0.000000   \n",
       "50%                   4.000000               114.000000    312.000000   \n",
       "75%                  41.000000               900.000000   1607.000000   \n",
       "max                 528.000000              5521.000000  15149.000000   \n",
       "\n",
       "       from_this_person_to_poi  from_messages  \n",
       "count               145.000000     145.000000  \n",
       "mean                 24.455172     361.075862  \n",
       "std                  79.527073    1445.944684  \n",
       "min                   0.000000       0.000000  \n",
       "25%                   0.000000       0.000000  \n",
       "50%                   0.000000      17.000000  \n",
       "75%                  14.000000      52.000000  \n",
       "max                 609.000000   14368.000000  "
      ]
     },
     "execution_count": 9,
     "metadata": {},
     "output_type": "execute_result"
    }
   ],
   "source": [
    "#examine the statistics of the dataset\n",
    "data_df.describe()"
   ]
  },
  {
   "cell_type": "markdown",
   "metadata": {},
   "source": [
    "# Outlier Investigation"
   ]
  },
  {
   "cell_type": "markdown",
   "metadata": {},
   "source": [
    "Seaborn's pairplot presents at same time the distribution of the variables and a scatter plot representation of them"
   ]
  },
  {
   "cell_type": "code",
   "execution_count": 10,
   "metadata": {},
   "outputs": [
    {
     "data": {
      "image/png": "[encoded data removed]",
      "text/plain": [
       "<matplotlib.figure.Figure at 0x7f21eb46f550>"
      ]
     },
     "metadata": {},
     "output_type": "display_data"
    }
   ],
   "source": [
    "sns.pairplot(data=data_df, vars=['total_payments','exercised_stock_options', 'restricted_stock', 'total_stock_value'], hue='poi')\n",
    "plt.show()"
   ]
  },
  {
   "cell_type": "code",
   "execution_count": 11,
   "metadata": {
    "scrolled": true
   },
   "outputs": [
    {
     "data": {
      "text/plain": [
       "TOTAL            309886585\n",
       "LAY KENNETH L    103559793\n",
       "Name: total_payments, dtype: int64"
      ]
     },
     "execution_count": 11,
     "metadata": {},
     "output_type": "execute_result"
    }
   ],
   "source": [
    "data_df.total_payments.nlargest(2)"
   ]
  },
  {
   "cell_type": "markdown",
   "metadata": {},
   "source": [
    "TOTAL is the totals on the enron61702insiderpay.pdf and not a person so it should be removed"
   ]
  },
  {
   "cell_type": "code",
   "execution_count": 12,
   "metadata": {},
   "outputs": [],
   "source": [
    "data_df.drop('TOTAL', inplace=True)"
   ]
  },
  {
   "cell_type": "code",
   "execution_count": 13,
   "metadata": {},
   "outputs": [
    {
     "data": {
      "image/png": "[encoded data removed]",
      "text/plain": [
       "<matplotlib.figure.Figure at 0x7f21eb46ffd0>"
      ]
     },
     "metadata": {},
     "output_type": "display_data"
    }
   ],
   "source": [
    "sns.pairplot(data=data_df, vars=[\"total_payments\", \"exercised_stock_options\", \"restricted_stock\", \"total_stock_value\"], hue=\"poi\")\n",
    "plt.show()"
   ]
  },
  {
   "cell_type": "markdown",
   "metadata": {},
   "source": [
    "After removing TOTAL we can see some trends in plots\n",
    "restricted_stock variable indicates that more outliers may exist.\n",
    "Since the data have been taken from a financial statement an error may have introduced during the data entry / scrapping.\n",
    "\n",
    "We can make a first sanity by checking if the individual values sum with the totals of each category (Total Payments, Total Stock Value)."
   ]
  },
  {
   "cell_type": "code",
   "execution_count": 14,
   "metadata": {},
   "outputs": [
    {
     "name": "stdout",
     "output_type": "stream",
     "text": [
      "salary                  26704229.0\n",
      "bonus                   97343619.0\n",
      "long_term_incentive     48521928.0\n",
      "deferred_income        -27890391.0\n",
      "deferral_payments       31980896.0\n",
      "loan_advances           83925000.0\n",
      "other                   42805453.0\n",
      "expenses                 5094049.0\n",
      "director_fees            1437166.0\n",
      "total_payments         325304226.0\n",
      "dtype: float64\n",
      "-------------------------\n",
      "('Sum all payment variables: ', 309921949.0)\n"
     ]
    }
   ],
   "source": [
    "#sum of all payment variables\n",
    "print(data_df.sum()[1:11])\n",
    "print(\"-------------------------\")\n",
    "print(\"Sum all payment variables: \", sum(data_df.sum()[1:10]))"
   ]
  },
  {
   "cell_type": "code",
   "execution_count": 15,
   "metadata": {},
   "outputs": [
    {
     "name": "stdout",
     "output_type": "stream",
     "text": [
      "exercised_stock_options      298915485.0\n",
      "restricted_stock             125069226.0\n",
      "restricted_stock_deferred     10572178.0\n",
      "total_stock_value            419009128.0\n",
      "dtype: float64\n",
      "----------------------------------\n",
      "('Sum all stock variables: ', 434556889.0)\n"
     ]
    }
   ],
   "source": [
    "#sum of all stock variables\n",
    "print(data_df.sum()[11:15])\n",
    "print(\"----------------------------------\")\n",
    "print(\"Sum all stock variables: \", sum(data_df.sum()[11:14]))"
   ]
  },
  {
   "cell_type": "markdown",
   "metadata": {},
   "source": [
    "The totals do not match, we need to check employee by employee to find the errors"
   ]
  },
  {
   "cell_type": "code",
   "execution_count": 16,
   "metadata": {},
   "outputs": [
    {
     "data": {
      "text/html": [
       "<div>\n",
       "<style>\n",
       "    .dataframe thead tr:only-child th {\n",
       "        text-align: right;\n",
       "    }\n",
       "\n",
       "    .dataframe thead th {\n",
       "        text-align: left;\n",
       "    }\n",
       "\n",
       "    .dataframe tbody tr th {\n",
       "        vertical-align: top;\n",
       "    }\n",
       "</style>\n",
       "<table border=\"1\" class=\"dataframe\">\n",
       "  <thead>\n",
       "    <tr style=\"text-align: right;\">\n",
       "      <th></th>\n",
       "      <th>poi</th>\n",
       "      <th>salary</th>\n",
       "      <th>bonus</th>\n",
       "      <th>long_term_incentive</th>\n",
       "      <th>deferred_income</th>\n",
       "      <th>deferral_payments</th>\n",
       "      <th>loan_advances</th>\n",
       "      <th>other</th>\n",
       "      <th>expenses</th>\n",
       "      <th>director_fees</th>\n",
       "      <th>total_payments</th>\n",
       "      <th>exercised_stock_options</th>\n",
       "      <th>restricted_stock</th>\n",
       "      <th>restricted_stock_deferred</th>\n",
       "      <th>total_stock_value</th>\n",
       "      <th>from_poi_to_this_person</th>\n",
       "      <th>shared_receipt_with_poi</th>\n",
       "      <th>to_messages</th>\n",
       "      <th>from_this_person_to_poi</th>\n",
       "      <th>from_messages</th>\n",
       "    </tr>\n",
       "  </thead>\n",
       "  <tbody>\n",
       "    <tr>\n",
       "      <th>BELFER ROBERT</th>\n",
       "      <td>False</td>\n",
       "      <td>0</td>\n",
       "      <td>0</td>\n",
       "      <td>0</td>\n",
       "      <td>0</td>\n",
       "      <td>-102500</td>\n",
       "      <td>0</td>\n",
       "      <td>0</td>\n",
       "      <td>0</td>\n",
       "      <td>3285</td>\n",
       "      <td>102500</td>\n",
       "      <td>3285</td>\n",
       "      <td>0</td>\n",
       "      <td>44093</td>\n",
       "      <td>-44093</td>\n",
       "      <td>0</td>\n",
       "      <td>0</td>\n",
       "      <td>0</td>\n",
       "      <td>0</td>\n",
       "      <td>0</td>\n",
       "    </tr>\n",
       "    <tr>\n",
       "      <th>BHATNAGAR SANJAY</th>\n",
       "      <td>False</td>\n",
       "      <td>0</td>\n",
       "      <td>0</td>\n",
       "      <td>0</td>\n",
       "      <td>0</td>\n",
       "      <td>0</td>\n",
       "      <td>0</td>\n",
       "      <td>137864</td>\n",
       "      <td>0</td>\n",
       "      <td>137864</td>\n",
       "      <td>15456290</td>\n",
       "      <td>2604490</td>\n",
       "      <td>-2604490</td>\n",
       "      <td>15456290</td>\n",
       "      <td>0</td>\n",
       "      <td>0</td>\n",
       "      <td>463</td>\n",
       "      <td>523</td>\n",
       "      <td>1</td>\n",
       "      <td>29</td>\n",
       "    </tr>\n",
       "  </tbody>\n",
       "</table>\n",
       "</div>"
      ],
      "text/plain": [
       "                    poi  salary  bonus  long_term_incentive  deferred_income  \\\n",
       "BELFER ROBERT     False       0      0                    0                0   \n",
       "BHATNAGAR SANJAY  False       0      0                    0                0   \n",
       "\n",
       "                  deferral_payments  loan_advances   other  expenses  \\\n",
       "BELFER ROBERT               -102500              0       0         0   \n",
       "BHATNAGAR SANJAY                  0              0  137864         0   \n",
       "\n",
       "                  director_fees  total_payments  exercised_stock_options  \\\n",
       "BELFER ROBERT              3285          102500                     3285   \n",
       "BHATNAGAR SANJAY         137864        15456290                  2604490   \n",
       "\n",
       "                  restricted_stock  restricted_stock_deferred  \\\n",
       "BELFER ROBERT                    0                      44093   \n",
       "BHATNAGAR SANJAY          -2604490                   15456290   \n",
       "\n",
       "                  total_stock_value  from_poi_to_this_person  \\\n",
       "BELFER ROBERT                -44093                        0   \n",
       "BHATNAGAR SANJAY                  0                        0   \n",
       "\n",
       "                  shared_receipt_with_poi  to_messages  \\\n",
       "BELFER ROBERT                           0            0   \n",
       "BHATNAGAR SANJAY                      463          523   \n",
       "\n",
       "                  from_this_person_to_poi  from_messages  \n",
       "BELFER ROBERT                           0              0  \n",
       "BHATNAGAR SANJAY                        1             29  "
      ]
     },
     "execution_count": 16,
     "metadata": {},
     "output_type": "execute_result"
    }
   ],
   "source": [
    "errorlist = []\n",
    "for line in data_df.itertuples():\n",
    "    if sum(line[2:11]) != line[11] or sum(line[12:15]) != line[15]:\n",
    "        errorlist.append(line[0])\n",
    "data_df.loc[errorlist]"
   ]
  },
  {
   "cell_type": "markdown",
   "metadata": {},
   "source": [
    "Comparing the above results with the enron61702insiderpay.pdf we can see that there are some errors in the data"
   ]
  },
  {
   "cell_type": "code",
   "execution_count": 17,
   "metadata": {},
   "outputs": [],
   "source": [
    "data_df.loc[\"BELFER ROBERT\", :] = [\n",
    "    False, 0, 0, 0, -102500, 0, 0, 0, 3285, 102500, 3285, 0, 44093, -44093, 0,\n",
    "    0, 0, 0, 0, 0\n",
    "]\n",
    "data_df.loc[\"BHATNAGAR SANJAY\", :] = [\n",
    "    False, 0, 0, 0, 0, 0, 0, 0, 137864, 0, 137864, 15456290, 2604490, -2604490,\n",
    "    15456290, 0, 463, 523, 1, 29\n",
    "]"
   ]
  },
  {
   "cell_type": "code",
   "execution_count": 18,
   "metadata": {},
   "outputs": [
    {
     "data": {
      "text/html": [
       "<div>\n",
       "<style>\n",
       "    .dataframe thead tr:only-child th {\n",
       "        text-align: right;\n",
       "    }\n",
       "\n",
       "    .dataframe thead th {\n",
       "        text-align: left;\n",
       "    }\n",
       "\n",
       "    .dataframe tbody tr th {\n",
       "        vertical-align: top;\n",
       "    }\n",
       "</style>\n",
       "<table border=\"1\" class=\"dataframe\">\n",
       "  <thead>\n",
       "    <tr style=\"text-align: right;\">\n",
       "      <th></th>\n",
       "      <th>poi</th>\n",
       "      <th>salary</th>\n",
       "      <th>bonus</th>\n",
       "      <th>long_term_incentive</th>\n",
       "      <th>deferred_income</th>\n",
       "      <th>deferral_payments</th>\n",
       "      <th>loan_advances</th>\n",
       "      <th>other</th>\n",
       "      <th>expenses</th>\n",
       "      <th>director_fees</th>\n",
       "      <th>total_payments</th>\n",
       "      <th>exercised_stock_options</th>\n",
       "      <th>restricted_stock</th>\n",
       "      <th>restricted_stock_deferred</th>\n",
       "      <th>total_stock_value</th>\n",
       "      <th>from_poi_to_this_person</th>\n",
       "      <th>shared_receipt_with_poi</th>\n",
       "      <th>to_messages</th>\n",
       "      <th>from_this_person_to_poi</th>\n",
       "      <th>from_messages</th>\n",
       "    </tr>\n",
       "  </thead>\n",
       "  <tbody>\n",
       "    <tr>\n",
       "      <th>BELFER ROBERT</th>\n",
       "      <td>False</td>\n",
       "      <td>0</td>\n",
       "      <td>0</td>\n",
       "      <td>0</td>\n",
       "      <td>-102500</td>\n",
       "      <td>0</td>\n",
       "      <td>0</td>\n",
       "      <td>0</td>\n",
       "      <td>3285</td>\n",
       "      <td>102500</td>\n",
       "      <td>3285</td>\n",
       "      <td>0</td>\n",
       "      <td>44093</td>\n",
       "      <td>-44093</td>\n",
       "      <td>0</td>\n",
       "      <td>0</td>\n",
       "      <td>0</td>\n",
       "      <td>0</td>\n",
       "      <td>0</td>\n",
       "      <td>0</td>\n",
       "    </tr>\n",
       "    <tr>\n",
       "      <th>BHATNAGAR SANJAY</th>\n",
       "      <td>False</td>\n",
       "      <td>0</td>\n",
       "      <td>0</td>\n",
       "      <td>0</td>\n",
       "      <td>0</td>\n",
       "      <td>0</td>\n",
       "      <td>0</td>\n",
       "      <td>0</td>\n",
       "      <td>137864</td>\n",
       "      <td>0</td>\n",
       "      <td>137864</td>\n",
       "      <td>15456290</td>\n",
       "      <td>2604490</td>\n",
       "      <td>-2604490</td>\n",
       "      <td>15456290</td>\n",
       "      <td>0</td>\n",
       "      <td>463</td>\n",
       "      <td>523</td>\n",
       "      <td>1</td>\n",
       "      <td>29</td>\n",
       "    </tr>\n",
       "  </tbody>\n",
       "</table>\n",
       "</div>"
      ],
      "text/plain": [
       "                    poi  salary  bonus  long_term_incentive  deferred_income  \\\n",
       "BELFER ROBERT     False       0      0                    0          -102500   \n",
       "BHATNAGAR SANJAY  False       0      0                    0                0   \n",
       "\n",
       "                  deferral_payments  loan_advances  other  expenses  \\\n",
       "BELFER ROBERT                     0              0      0      3285   \n",
       "BHATNAGAR SANJAY                  0              0      0    137864   \n",
       "\n",
       "                  director_fees  total_payments  exercised_stock_options  \\\n",
       "BELFER ROBERT            102500            3285                        0   \n",
       "BHATNAGAR SANJAY              0          137864                 15456290   \n",
       "\n",
       "                  restricted_stock  restricted_stock_deferred  \\\n",
       "BELFER ROBERT                44093                     -44093   \n",
       "BHATNAGAR SANJAY           2604490                   -2604490   \n",
       "\n",
       "                  total_stock_value  from_poi_to_this_person  \\\n",
       "BELFER ROBERT                     0                        0   \n",
       "BHATNAGAR SANJAY           15456290                        0   \n",
       "\n",
       "                  shared_receipt_with_poi  to_messages  \\\n",
       "BELFER ROBERT                           0            0   \n",
       "BHATNAGAR SANJAY                      463          523   \n",
       "\n",
       "                  from_this_person_to_poi  from_messages  \n",
       "BELFER ROBERT                           0              0  \n",
       "BHATNAGAR SANJAY                        1             29  "
      ]
     },
     "execution_count": 18,
     "metadata": {},
     "output_type": "execute_result"
    }
   ],
   "source": [
    "data_df.loc[errorlist]"
   ]
  },
  {
   "cell_type": "code",
   "execution_count": 19,
   "metadata": {},
   "outputs": [
    {
     "data": {
      "image/png": "[encoded data removed]",
      "text/plain": [
       "<matplotlib.figure.Figure at 0x7f21eb2d9c50>"
      ]
     },
     "metadata": {},
     "output_type": "display_data"
    }
   ],
   "source": [
    "#plot the two aggregated varibles Total payments and Total Stock value\n",
    "fig1, ax = plt.subplots()\n",
    "for poi, data in data_df.groupby(by='poi'):\n",
    "    ax.plot(data['total_payments'], data['total_stock_value'],'o', label=poi)\n",
    "ax.legend()\n",
    "plt.xscale('symlog')\n",
    "plt.yscale('symlog')\n",
    "plt.xlabel('Total Payment')\n",
    "plt.ylabel('Total Stock Value')\n",
    "plt.show()"
   ]
  },
  {
   "cell_type": "markdown",
   "metadata": {},
   "source": [
    "We can see that there are some persons with zero salary or bonus (or both) and none of them is a POI. Since we have a sparse number of POIs it might be beneficial to remove them to have a more dense dataset"
   ]
  },
  {
   "cell_type": "code",
   "execution_count": 20,
   "metadata": {},
   "outputs": [
    {
     "data": {
      "text/plain": [
       "(81, 20)"
      ]
     },
     "execution_count": 20,
     "metadata": {},
     "output_type": "execute_result"
    }
   ],
   "source": [
    "data_nbs = data_df[data_df.salary > 0]\n",
    "data_nbs = data_nbs[data_nbs.bonus > 0]\n",
    "data_nbs.shape"
   ]
  },
  {
   "cell_type": "code",
   "execution_count": 21,
   "metadata": {},
   "outputs": [
    {
     "name": "stdout",
     "output_type": "stream",
     "text": [
      "BLAKE JR. NORMAN P\n",
      "BOWEN JR RAYMOND M\n",
      "DERRICK JR. JAMES V\n",
      "DONAHUE JR JEFFREY M\n",
      "GARLAND C KEVIN\n",
      "GLISAN JR BEN F\n",
      "OVERDYKE JR JERE C\n",
      "PEREIRA PAULO V. FERRAZ\n",
      "SULLIVAN-SHAKLOVITZ COLLEEN\n",
      "THE TRAVEL AGENCY IN THE PARK\n",
      "WALLS JR ROBERT H\n",
      "WHITE JR THOMAS E\n",
      "WINOKUR JR. HERBERT S\n",
      "YEAGER F SCOTT\n"
     ]
    }
   ],
   "source": [
    "#check for more false entries like TOTAL\n",
    "for index in data_df.index:\n",
    "    if re.match('^[A-Z]+\\s[A-Z]+(\\s[A-Z])?$', index):\n",
    "        continue\n",
    "    else:\n",
    "        print(index)"
   ]
  },
  {
   "cell_type": "markdown",
   "metadata": {},
   "source": [
    "THE TRAVEL AGENCY IN THE PARK isn't a name of an employee"
   ]
  },
  {
   "cell_type": "code",
   "execution_count": 22,
   "metadata": {},
   "outputs": [
    {
     "data": {
      "text/html": [
       "<div>\n",
       "<style>\n",
       "    .dataframe thead tr:only-child th {\n",
       "        text-align: right;\n",
       "    }\n",
       "\n",
       "    .dataframe thead th {\n",
       "        text-align: left;\n",
       "    }\n",
       "\n",
       "    .dataframe tbody tr th {\n",
       "        vertical-align: top;\n",
       "    }\n",
       "</style>\n",
       "<table border=\"1\" class=\"dataframe\">\n",
       "  <thead>\n",
       "    <tr style=\"text-align: right;\">\n",
       "      <th></th>\n",
       "      <th>poi</th>\n",
       "      <th>salary</th>\n",
       "      <th>bonus</th>\n",
       "      <th>long_term_incentive</th>\n",
       "      <th>deferred_income</th>\n",
       "      <th>deferral_payments</th>\n",
       "      <th>loan_advances</th>\n",
       "      <th>other</th>\n",
       "      <th>expenses</th>\n",
       "      <th>director_fees</th>\n",
       "      <th>total_payments</th>\n",
       "      <th>exercised_stock_options</th>\n",
       "      <th>restricted_stock</th>\n",
       "      <th>restricted_stock_deferred</th>\n",
       "      <th>total_stock_value</th>\n",
       "      <th>from_poi_to_this_person</th>\n",
       "      <th>shared_receipt_with_poi</th>\n",
       "      <th>to_messages</th>\n",
       "      <th>from_this_person_to_poi</th>\n",
       "      <th>from_messages</th>\n",
       "    </tr>\n",
       "  </thead>\n",
       "  <tbody>\n",
       "    <tr>\n",
       "      <th>THE TRAVEL AGENCY IN THE PARK</th>\n",
       "      <td>False</td>\n",
       "      <td>0</td>\n",
       "      <td>0</td>\n",
       "      <td>0</td>\n",
       "      <td>0</td>\n",
       "      <td>0</td>\n",
       "      <td>0</td>\n",
       "      <td>362096</td>\n",
       "      <td>0</td>\n",
       "      <td>0</td>\n",
       "      <td>362096</td>\n",
       "      <td>0</td>\n",
       "      <td>0</td>\n",
       "      <td>0</td>\n",
       "      <td>0</td>\n",
       "      <td>0</td>\n",
       "      <td>0</td>\n",
       "      <td>0</td>\n",
       "      <td>0</td>\n",
       "      <td>0</td>\n",
       "    </tr>\n",
       "  </tbody>\n",
       "</table>\n",
       "</div>"
      ],
      "text/plain": [
       "                                 poi  salary  bonus  long_term_incentive  \\\n",
       "THE TRAVEL AGENCY IN THE PARK  False       0      0                    0   \n",
       "\n",
       "                               deferred_income  deferral_payments  \\\n",
       "THE TRAVEL AGENCY IN THE PARK                0                  0   \n",
       "\n",
       "                               loan_advances   other  expenses  director_fees  \\\n",
       "THE TRAVEL AGENCY IN THE PARK              0  362096         0              0   \n",
       "\n",
       "                               total_payments  exercised_stock_options  \\\n",
       "THE TRAVEL AGENCY IN THE PARK          362096                        0   \n",
       "\n",
       "                               restricted_stock  restricted_stock_deferred  \\\n",
       "THE TRAVEL AGENCY IN THE PARK                 0                          0   \n",
       "\n",
       "                               total_stock_value  from_poi_to_this_person  \\\n",
       "THE TRAVEL AGENCY IN THE PARK                  0                        0   \n",
       "\n",
       "                               shared_receipt_with_poi  to_messages  \\\n",
       "THE TRAVEL AGENCY IN THE PARK                        0            0   \n",
       "\n",
       "                               from_this_person_to_poi  from_messages  \n",
       "THE TRAVEL AGENCY IN THE PARK                        0              0  "
      ]
     },
     "execution_count": 22,
     "metadata": {},
     "output_type": "execute_result"
    }
   ],
   "source": [
    "data_df.loc[['THE TRAVEL AGENCY IN THE PARK']]"
   ]
  },
  {
   "cell_type": "code",
   "execution_count": 23,
   "metadata": {},
   "outputs": [],
   "source": [
    "data_df = data_df.drop(['THE TRAVEL AGENCY IN THE PARK'], axis=0)"
   ]
  },
  {
   "cell_type": "markdown",
   "metadata": {},
   "source": [
    "As a final step in outlier investigation, we will search for extreme values as they are essential information. They should be kept but let's spot them first."
   ]
  },
  {
   "cell_type": "code",
   "execution_count": 24,
   "metadata": {},
   "outputs": [],
   "source": [
    "#using Tukey Fences with 3 IQRs for every single feature\n",
    "\n",
    "def outlier_iqr(data, features):\n",
    "    result = set()\n",
    "    for feature in features:\n",
    "        ys = data[[feature]]\n",
    "        q1, q3 = np.percentile(ys, [25,75])\n",
    "        iqr = q3 - q1\n",
    "        lb = int(round(q1 - (iqr*3)))\n",
    "        ub = int(round(q3 + (iqr*3)))\n",
    "        partial_result = list(np.where((ys > ub) | (ys < lb))[0])\n",
    "        print feature, len(partial_result)\n",
    "        result.update(partial_result)\n",
    "        \n",
    "    print(\"-------------------------------------------------------------\")\n",
    "    print \"Total number of records with extreme values: \", len(result)\n",
    "    \n",
    "    return list(result)"
   ]
  },
  {
   "cell_type": "code",
   "execution_count": 25,
   "metadata": {
    "scrolled": true
   },
   "outputs": [
    {
     "name": "stdout",
     "output_type": "stream",
     "text": [
      "salary 1\n",
      "bonus 5\n",
      "long_term_incentive 11\n",
      "deferred_income 24\n",
      "deferral_payments 33\n",
      "loan_advances 3\n",
      "other 13\n",
      "expenses 2\n",
      "director_fees 15\n",
      "total_payments 5\n",
      "exercised_stock_options 11\n",
      "restricted_stock 9\n",
      "restricted_stock_deferred 17\n",
      "total_stock_value 11\n",
      "from_poi_to_this_person 11\n",
      "shared_receipt_with_poi 4\n",
      "to_messages 6\n",
      "from_this_person_to_poi 13\n",
      "from_messages 20\n",
      "-------------------------------------------------------------\n",
      "Total number of records with extreme values:  93\n"
     ]
    }
   ],
   "source": [
    "cols.remove('poi')\n",
    "xtr_values = outlier_iqr(data_df, cols)"
   ]
  },
  {
   "cell_type": "markdown",
   "metadata": {},
   "source": [
    "Among this extreme values we will check how many among them are POI's"
   ]
  },
  {
   "cell_type": "code",
   "execution_count": 26,
   "metadata": {},
   "outputs": [
    {
     "name": "stdout",
     "output_type": "stream",
     "text": [
      "POI density on the original dataset:  0.125874125874\n",
      "POI density on the subset with the extreme values:  0.161290322581\n",
      "Difference:  0.281362007168\n"
     ]
    },
    {
     "name": "stderr",
     "output_type": "stream",
     "text": [
      "/usr/local/lib/python2.7/dist-packages/ipykernel_launcher.py:4: DeprecationWarning: \n",
      ".ix is deprecated. Please use\n",
      ".loc for label based indexing or\n",
      ".iloc for positional indexing\n",
      "\n",
      "See the documentation here:\n",
      "http://pandas.pydata.org/pandas-docs/stable/indexing.html#ix-indexer-is-deprecated\n",
      "  after removing the cwd from sys.path.\n"
     ]
    }
   ],
   "source": [
    "p = data_df.loc[:, 'poi'].value_counts()\n",
    "poi_density = p[1] /float(p[0] + p[1])\n",
    "print \"POI density on the original dataset: \", poi_density\n",
    "p = data_df.ix[xtr_values, 'poi'].value_counts()\n",
    "poi_density_xtr = p[1]/float(p[0]+p[1])\n",
    "print \"POI density on the subset with the extreme values: \", poi_density_xtr\n",
    "print \"Difference: \", (poi_density_xtr-poi_density) / float(poi_density)"
   ]
  },
  {
   "cell_type": "markdown",
   "metadata": {},
   "source": [
    "There are 28% more POIs than in the general dataset.\n",
    "Thus the extreme values are related with being a POI, thus we will not remove them"
   ]
  },
  {
   "cell_type": "markdown",
   "metadata": {},
   "source": [
    "Now that the dataset is clear of outliers we can find the final dimensions and split the labels from the features and have a first scoring as a baseline for the rest of the analysis."
   ]
  },
  {
   "cell_type": "code",
   "execution_count": 27,
   "metadata": {},
   "outputs": [
    {
     "data": {
      "text/plain": [
       "(143, 20)"
      ]
     },
     "execution_count": 27,
     "metadata": {},
     "output_type": "execute_result"
    }
   ],
   "source": [
    "data_df.shape"
   ]
  },
  {
   "cell_type": "code",
   "execution_count": 28,
   "metadata": {},
   "outputs": [],
   "source": [
    "#split data in labels and features\n",
    "def do_split(data):\n",
    "    X = data.copy()\n",
    "    y = X.pop('poi').astype(int)\n",
    "    \n",
    "    return X, y"
   ]
  },
  {
   "cell_type": "markdown",
   "metadata": {},
   "source": [
    "We will use the GaussianNB classifier to begin "
   ]
  },
  {
   "cell_type": "code",
   "execution_count": 29,
   "metadata": {},
   "outputs": [
    {
     "name": "stdout",
     "output_type": "stream",
     "text": [
      "GaussianNB(priors=None)\n",
      "\tAccuracy: 0.76353\tPrecision: 0.24564\tRecall: 0.37350\tF1: 0.29637\tF2: 0.33828\n",
      "\tTotal predictions: 15000\tTrue positives:  747\tFalse positives: 2294\tFalse negatives: 1253\tTrue negatives: 10706\n",
      "\n"
     ]
    }
   ],
   "source": [
    "f = data_df.columns.tolist()\n",
    "d = data_df.to_dict(orient='index')\n",
    "test_classifier(GaussianNB(), d,f)"
   ]
  },
  {
   "cell_type": "markdown",
   "metadata": {},
   "source": [
    "# Optimize Feature Selection/Engineering"
   ]
  },
  {
   "cell_type": "markdown",
   "metadata": {},
   "source": [
    "Add the proportions of each variable to its category's sum"
   ]
  },
  {
   "cell_type": "code",
   "execution_count": 30,
   "metadata": {},
   "outputs": [],
   "source": [
    "data = data_df.copy()\n",
    "data.loc[:, \"salary_p\"] = data.loc[:, \"salary\"]/data.loc[:, \"total_payments\"]\n",
    "data.loc[:, \"deferral_payments_p\"] = data.loc[:, \"deferral_payments\"]/data.loc[:, \"total_payments\"]\n",
    "data.loc[:, \"loan_advances_p\"] = data.loc[:, \"loan_advances\"]/data.loc[:, \"total_payments\"]\n",
    "data.loc[:, \"bonus_p\"] = data.loc[:, \"bonus\"]/data.loc[:, \"total_payments\"]\n",
    "data.loc[:, \"deferred_income_p\"] = data.loc[:, \"deferred_income\"]/data.loc[:, \"total_payments\"]\n",
    "data.loc[:, \"expenses_p\"] = data.loc[:, \"expenses\"]/data.loc[:, \"total_payments\"]\n",
    "data.loc[:, \"other_p\"] = data.loc[:, \"other\"]/data.loc[:, \"total_payments\"]\n",
    "data.loc[:, \"long_term_incentive_p\"] = data.loc[:, \"long_term_incentive\"]/data.loc[:, \"total_payments\"]\n",
    "data.loc[:, \"director_fees_p\"] = data.loc[:, \"director_fees\"]/data.loc[:, \"total_payments\"]\n",
    "\n",
    "data.loc[:, \"restricted_stock_deferred_p\"] = data.loc[:, \"restricted_stock_deferred\"]/data.loc[:, \"total_stock_value\"]\n",
    "data.loc[:, \"exercised_stock_options_p\"] = data.loc[:, \"exercised_stock_options\"]/data.loc[:, \"total_stock_value\"]\n",
    "data.loc[:, \"restricted_stock_p\"] = data.loc[:, \"restricted_stock\"]/data.loc[:, \"total_stock_value\"]\n",
    "\n",
    "data.loc[:, \"from_poi_to_this_person_p\"] = data.loc[:, \"from_poi_to_this_person\"]/data.loc[:, \"to_messages\"]\n",
    "data.loc[:, \"shared_receipt_with_poi_p\"] = data.loc[:, \"shared_receipt_with_poi\"]/data.loc[:, \"to_messages\"]\n",
    "\n",
    "data.loc[:, \"from_this_person_to_poi_p\"] = data.loc[:, \"from_this_person_to_poi\"]/data.loc[:, \"from_messages\"]\n",
    "    \n",
    "data.replace(to_replace=np.NaN, value=0, inplace=True)\n",
    "data.replace(to_replace=np.inf, value=0, inplace=True)\n",
    "data.replace(to_replace=-np.inf, value=0, inplace=True)"
   ]
  },
  {
   "cell_type": "code",
   "execution_count": 31,
   "metadata": {},
   "outputs": [],
   "source": [
    "#plot the importance of features of the dataset by using same classifier\n",
    "\n",
    "def plot_importance(dataset):\n",
    "    X, y = do_split(dataset)\n",
    "    \n",
    "    selector = SelectPercentile(percentile = 100)\n",
    "    a = selector.fit(X,y)\n",
    "    \n",
    "    plt.figure(figsize=(12,9))\n",
    "    sns.barplot(y=X.columns, x=a.scores_)\n",
    "    plt.show()"
   ]
  },
  {
   "cell_type": "code",
   "execution_count": 32,
   "metadata": {},
   "outputs": [
    {
     "data": {
      "image/png": "[encoded data removed]",
      "text/plain": [
       "<matplotlib.figure.Figure at 0x7f21eb2d5ed0>"
      ]
     },
     "metadata": {},
     "output_type": "display_data"
    }
   ],
   "source": [
    "plot_importance(data)"
   ]
  },
  {
   "cell_type": "markdown",
   "metadata": {},
   "source": [
    "Comparing the newly created features with the original we can see that the proportions of “Long Term Incentive”, “Restricted Stock Deferred” and “From This Person to POI” score higher than the original features. We will keep these and remove the original values. to avoid bias the model towards a specific feature by using both the original value and its proportion."
   ]
  },
  {
   "cell_type": "code",
   "execution_count": 33,
   "metadata": {},
   "outputs": [],
   "source": [
    "#Adding the proportions\n",
    "data_df.loc[:, \"long_term_incentive_p\"] = data_df.loc[:, \"long_term_incentive\"]/data_df.loc[:, \"total_payments\"]\n",
    "data_df.loc[:, \"restricted_stock_deferred_p\"] = data_df.loc[:, \"restricted_stock_deferred\"]/data_df.loc[:, \"total_stock_value\"]\n",
    "data_df.loc[:, \"from_this_person_to_poi_p\"] = data_df.loc[:, \"from_this_person_to_poi\"]/data_df.loc[:, \"from_messages\"]\n",
    "#Removing the original values.\n",
    "data_df.drop(\"long_term_incentive\", axis=1)\n",
    "data_df.drop(\"restricted_stock_deferred\", axis=1)\n",
    "data_df.drop(\"from_this_person_to_poi\", axis=1)\n",
    "#Correcting NaN and infinity values created by zero divisions\n",
    "data_df.replace(to_replace=np.NaN, value=0, inplace=True)\n",
    "data_df.replace(to_replace=np.inf, value=0, inplace=True)\n",
    "data_df.replace(to_replace=-np.inf, value=0, inplace=True)"
   ]
  },
  {
   "cell_type": "code",
   "execution_count": 34,
   "metadata": {},
   "outputs": [
    {
     "data": {
      "image/png": "[encoded data removed]",
      "text/plain": [
       "<matplotlib.figure.Figure at 0x7f21eaf51590>"
      ]
     },
     "metadata": {},
     "output_type": "display_data"
    }
   ],
   "source": [
    "plot_importance(data_df)"
   ]
  },
  {
   "cell_type": "markdown",
   "metadata": {},
   "source": [
    "# Feature Selection"
   ]
  },
  {
   "cell_type": "markdown",
   "metadata": {},
   "source": [
    "We will use GaussianNB classifier and will test univariate feature selection (KBest) and Primary component analysis (PCA).\n",
    "There are features in dataset with big differences in scaling. Some of the algorithm we will evaluate may behave badly because of these differences so we need to scale them.\n",
    "We will use MaxAbsScaler() for this."
   ]
  },
  {
   "cell_type": "code",
   "execution_count": 35,
   "metadata": {},
   "outputs": [
    {
     "data": {
      "image/png": "[encoded data removed]",
      "text/plain": [
       "<matplotlib.figure.Figure at 0x7f2226294190>"
      ]
     },
     "metadata": {},
     "output_type": "display_data"
    },
    {
     "data": {
      "text/plain": [
       "Pipeline(memory=None,\n",
       "     steps=[('scale', None), ('reduce_dim', PCA(copy=True, iterated_power='auto', n_components=7, random_state=42,\n",
       "  svd_solver='auto', tol=0.0, whiten=False)), ('classify', GaussianNB(priors=None))])"
      ]
     },
     "execution_count": 35,
     "metadata": {},
     "output_type": "execute_result"
    }
   ],
   "source": [
    "warnings.filterwarnings('ignore')\n",
    "\n",
    "pipe = Pipeline([('scale', MaxAbsScaler()),\n",
    "                 ('reduce_dim', PCA(random_state=42)),\n",
    "                 ('classify', GaussianNB())])\n",
    "\n",
    "N_FEATURES_OPTIONS = list(range(2,21))\n",
    "\n",
    "param_grid = [\n",
    "    {\n",
    "        'scale':[None, MaxAbsScaler(), StandardScaler()],\n",
    "        'reduce_dim': [PCA(random_state=42)],\n",
    "        'reduce_dim__n_components': N_FEATURES_OPTIONS,\n",
    "    },\n",
    "    {\n",
    "        'scale':[None, MaxAbsScaler(), StandardScaler()],\n",
    "        'reduce_dim': [SelectKBest()],\n",
    "        'reduce_dim__k': N_FEATURES_OPTIONS,\n",
    "    },\n",
    "]\n",
    "reducer_labels = ['PCA', 'KBest']\n",
    "cv = StratifiedShuffleSplit(random_state=42)\n",
    "grid = GridSearchCV(\n",
    "    pipe, param_grid=param_grid, cv=cv, scoring='f1', n_jobs=-1)\n",
    "\n",
    "X, y = do_split(data_df)\n",
    "grid.fit(X, y)\n",
    "\n",
    "mean_scores = np.array(grid.cv_results_['mean_test_score'])\n",
    "mean_scores = mean_scores.reshape(-1, len(N_FEATURES_OPTIONS))\n",
    "bar_offsets = (np.arange(len(N_FEATURES_OPTIONS)) *\n",
    "               (len(reducer_labels) + 1) + .5)\n",
    "plt.figure(figsize=(12,9))\n",
    "\n",
    "for i, (label, reducer_scores) in enumerate(zip(reducer_labels, mean_scores)):\n",
    "    plt.bar(bar_offsets + i, reducer_scores, label=label)\n",
    "\n",
    "plt.title('Comparing feature reduction techniques')\n",
    "plt.xlabel('Reduced number of features')\n",
    "plt.ylabel('Classification accuracy')\n",
    "plt.xticks(bar_offsets + len(reducer_labels) / 2, N_FEATURES_OPTIONS)\n",
    "plt.ylim((0, 0.4))\n",
    "plt.legend(loc='upper left')\n",
    "\n",
    "plt.show()\n",
    "grid.best_estimator_"
   ]
  },
  {
   "cell_type": "markdown",
   "metadata": {},
   "source": [
    "We get the best results if we reduce the features of the model to:"
   ]
  },
  {
   "cell_type": "code",
   "execution_count": 36,
   "metadata": {},
   "outputs": [
    {
     "data": {
      "text/plain": [
       "['salary',\n",
       " 'bonus',\n",
       " 'exercised_stock_options',\n",
       " 'total_stock_value',\n",
       " 'long_term_incentive_p',\n",
       " 'from_this_person_to_poi_p']"
      ]
     },
     "execution_count": 36,
     "metadata": {},
     "output_type": "execute_result"
    }
   ],
   "source": [
    "selector = SelectKBest(k=6)\n",
    "selector.fit(X,y)\n",
    "X.columns[selector.get_support()].tolist()"
   ]
  },
  {
   "cell_type": "markdown",
   "metadata": {},
   "source": [
    "The score of GaussianNB on the reduced dataset is: "
   ]
  },
  {
   "cell_type": "code",
   "execution_count": 37,
   "metadata": {},
   "outputs": [
    {
     "name": "stdout",
     "output_type": "stream",
     "text": [
      "Pipeline(memory=None,\n",
      "     steps=[('scale', None), ('reduce_dim', PCA(copy=True, iterated_power='auto', n_components=7, random_state=42,\n",
      "  svd_solver='auto', tol=0.0, whiten=False)), ('classify', GaussianNB(priors=None))])\n",
      "\tAccuracy: 0.84840\tPrecision: 0.41595\tRecall: 0.33900\tF1: 0.37355\tF2: 0.35202\n",
      "\tTotal predictions: 15000\tTrue positives:  678\tFalse positives:  952\tFalse negatives: 1322\tTrue negatives: 12048\n",
      "\n"
     ]
    }
   ],
   "source": [
    "features = data_df.columns.tolist()\n",
    "data_dict = data_df.to_dict(orient='index')\n",
    "test_classifier(grid.best_estimator_, data_dict, features)"
   ]
  },
  {
   "cell_type": "markdown",
   "metadata": {},
   "source": [
    "There is improvement on the f1 score, precision and recall"
   ]
  },
  {
   "cell_type": "markdown",
   "metadata": {},
   "source": [
    "# Algorithm Selection and Tuning"
   ]
  },
  {
   "cell_type": "markdown",
   "metadata": {},
   "source": [
    "Having finished with the preprocessing of the dataset, we will begin evaluating the performance of suitable algorithms."
   ]
  },
  {
   "cell_type": "markdown",
   "metadata": {},
   "source": [
    "## Algorithm Family Selection"
   ]
  },
  {
   "cell_type": "markdown",
   "metadata": {},
   "source": [
    "### Support Vector Machine"
   ]
  },
  {
   "cell_type": "markdown",
   "metadata": {},
   "source": [
    "From SVM we will evaluate support vector classifier (SVC) with default kernel (RBF) and penaly parameters 0.1,1,10"
   ]
  },
  {
   "cell_type": "code",
   "execution_count": 38,
   "metadata": {},
   "outputs": [
    {
     "name": "stdout",
     "output_type": "stream",
     "text": [
      "Pipeline(memory=None,\n",
      "     steps=[('scale', MaxAbsScaler(copy=True)), ('reduce_dim', SelectKBest(k=5, score_func=<function f_classif at 0x7f21ed0155f0>)), ('classify', SVC(C=10, cache_size=200, class_weight=None, coef0=0.0,\n",
      "  decision_function_shape='ovr', degree=3, gamma='auto', kernel='rbf',\n",
      "  max_iter=-1, probability=False, random_state=42, shrinking=True,\n",
      "  tol=0.001, verbose=False))])\n"
     ]
    }
   ],
   "source": [
    "pipe = Pipeline([('scale', MaxAbsScaler()),\n",
    "                 ('reduce_dim', PCA(random_state=42)),\n",
    "                 ('classify', SVC(random_state=42))])\n",
    "\n",
    "N_FEATURES_OPTIONS = list(range(2, 10))\n",
    "C_VALUES = [0.1, 1, 10]\n",
    "\n",
    "\n",
    "param_grid = [\n",
    "    {\n",
    "        'scale':[None, MaxAbsScaler()],\n",
    "        'reduce_dim': [PCA(random_state=42)],\n",
    "        'reduce_dim__n_components': N_FEATURES_OPTIONS,\n",
    "        'classify__C': C_VALUES\n",
    "    },\n",
    "    {\n",
    "        'scale':[None, MaxAbsScaler()],\n",
    "        'reduce_dim': [SelectKBest()],\n",
    "        'reduce_dim__k': N_FEATURES_OPTIONS,\n",
    "        'classify__C': C_VALUES\n",
    "    },\n",
    "]\n",
    "\n",
    "cv = StratifiedShuffleSplit(random_state=42)\n",
    "grid = GridSearchCV(\n",
    "    pipe, param_grid=param_grid, cv=cv, scoring='f1', n_jobs=-1)\n",
    "\n",
    "grid.fit(X, y)\n",
    "\n",
    "print(grid.best_estimator_)"
   ]
  },
  {
   "cell_type": "code",
   "execution_count": 39,
   "metadata": {},
   "outputs": [
    {
     "name": "stdout",
     "output_type": "stream",
     "text": [
      "Pipeline(memory=None,\n",
      "     steps=[('scale', MaxAbsScaler(copy=True)), ('reduce_dim', SelectKBest(k=5, score_func=<function f_classif at 0x7f21ed0155f0>)), ('classify', SVC(C=10, cache_size=200, class_weight=None, coef0=0.0,\n",
      "  decision_function_shape='ovr', degree=3, gamma='auto', kernel='rbf',\n",
      "  max_iter=-1, probability=False, random_state=42, shrinking=True,\n",
      "  tol=0.001, verbose=False))])\n",
      "\tAccuracy: 0.86320\tPrecision: 0.39431\tRecall: 0.04850\tF1: 0.08638\tF2: 0.05882\n",
      "\tTotal predictions: 15000\tTrue positives:   97\tFalse positives:  149\tFalse negatives: 1903\tTrue negatives: 12851\n",
      "\n"
     ]
    }
   ],
   "source": [
    "test_classifier(grid.best_estimator_, data_dict, features)"
   ]
  },
  {
   "cell_type": "markdown",
   "metadata": {},
   "source": [
    "SVC has better accuracy than GaussianNB but at same time the worst Recall achieving and F1 score of 0.08632"
   ]
  },
  {
   "cell_type": "markdown",
   "metadata": {},
   "source": [
    "### Nearest Neighbors"
   ]
  },
  {
   "cell_type": "markdown",
   "metadata": {},
   "source": [
    "From the Nearest Neighbors family, we will evaluate KNeighborsClassifier."
   ]
  },
  {
   "cell_type": "code",
   "execution_count": 40,
   "metadata": {},
   "outputs": [
    {
     "name": "stdout",
     "output_type": "stream",
     "text": [
      "Pipeline(memory=None,\n",
      "     steps=[('scale', MaxAbsScaler(copy=True)), ('reduce_dim', PCA(copy=True, iterated_power='auto', n_components=2, random_state=42,\n",
      "  svd_solver='auto', tol=0.0, whiten=False)), ('classify', KNeighborsClassifier(algorithm='auto', leaf_size=30, metric='minkowski',\n",
      "           metric_params=None, n_jobs=1, n_neighbors=3, p=1,\n",
      "           weights='distance'))])\n"
     ]
    }
   ],
   "source": [
    "pipe = Pipeline([('scale', MaxAbsScaler()),\n",
    "                 ('reduce_dim', PCA(random_state=42)),\n",
    "                 ('classify', KNeighborsClassifier())])\n",
    "\n",
    "N_FEATURES_OPTIONS = list(range(2, 10))\n",
    "N_NEIGHBORS = [1,3,5]\n",
    "\n",
    "\n",
    "param_grid = [\n",
    "    {\n",
    "        'scale':[None, MaxAbsScaler()],\n",
    "        'reduce_dim': [PCA(random_state=42)],\n",
    "        'reduce_dim__n_components': N_FEATURES_OPTIONS,\n",
    "        'classify__weights': ['uniform', 'distance'],\n",
    "        'classify__n_neighbors': N_NEIGHBORS,\n",
    "        'classify__p': [1,2]\n",
    "    },\n",
    "    {\n",
    "        'scale':[None, MaxAbsScaler()],\n",
    "        'reduce_dim': [SelectKBest()],\n",
    "        'reduce_dim__k': N_FEATURES_OPTIONS,\n",
    "        'classify__weights': ['uniform', 'distance'],\n",
    "        'classify__n_neighbors': N_NEIGHBORS,\n",
    "        'classify__p': [1,2]\n",
    "    },\n",
    "]\n",
    "\n",
    "cv = StratifiedShuffleSplit(random_state=42)\n",
    "grid = GridSearchCV(\n",
    "    pipe, param_grid=param_grid, cv=cv, scoring='f1', n_jobs=-1)\n",
    "\n",
    "grid.fit(X, y)\n",
    "\n",
    "print(grid.best_estimator_)"
   ]
  },
  {
   "cell_type": "code",
   "execution_count": 41,
   "metadata": {},
   "outputs": [
    {
     "name": "stdout",
     "output_type": "stream",
     "text": [
      "Pipeline(memory=None,\n",
      "     steps=[('scale', MaxAbsScaler(copy=True)), ('reduce_dim', PCA(copy=True, iterated_power='auto', n_components=2, random_state=42,\n",
      "  svd_solver='auto', tol=0.0, whiten=False)), ('classify', KNeighborsClassifier(algorithm='auto', leaf_size=30, metric='minkowski',\n",
      "           metric_params=None, n_jobs=1, n_neighbors=3, p=1,\n",
      "           weights='distance'))])\n",
      "\tAccuracy: 0.84920\tPrecision: 0.38726\tRecall: 0.22500\tF1: 0.28463\tF2: 0.24558\n",
      "\tTotal predictions: 15000\tTrue positives:  450\tFalse positives:  712\tFalse negatives: 1550\tTrue negatives: 12288\n",
      "\n"
     ]
    }
   ],
   "source": [
    "test_classifier(grid.best_estimator_, data_dict, features)"
   ]
  },
  {
   "cell_type": "markdown",
   "metadata": {},
   "source": [
    "KneighborsClassifier has the balanced result across Precision and Recall."
   ]
  },
  {
   "cell_type": "markdown",
   "metadata": {},
   "source": [
    "### Ensemble Methods"
   ]
  },
  {
   "cell_type": "markdown",
   "metadata": {},
   "source": [
    "In ensemble methods, we will evaluate both Random Forest and AdaBoost"
   ]
  },
  {
   "cell_type": "markdown",
   "metadata": {},
   "source": [
    "#### Random Forest "
   ]
  },
  {
   "cell_type": "code",
   "execution_count": null,
   "metadata": {},
   "outputs": [
    {
     "name": "stdout",
     "output_type": "stream",
     "text": [
      "Pipeline(memory=None,\n",
      "     steps=[('reduce_dim', SelectKBest(k=8, score_func=<function f_classif at 0x7f21ed0155f0>)), ('classify', RandomForestClassifier(bootstrap=True, class_weight=None, criterion='gini',\n",
      "            max_depth=None, max_features='auto', max_leaf_nodes=None,\n",
      "            min_impurity_decrease=0.0, min_impuri...estimators=1, n_jobs=1,\n",
      "            oob_score=False, random_state=42, verbose=0, warm_start=False))])\n",
      "\tAccuracy: 0.81080\tPrecision: 0.29008\tRecall: 0.28950\tF1: 0.28979\tF2: 0.28962\n",
      "\tTotal predictions: 15000\tTrue positives:  579\tFalse positives: 1417\tFalse negatives: 1421\tTrue negatives: 11583\n",
      "\n"
     ]
    }
   ],
   "source": [
    "pipe = Pipeline([('reduce_dim', PCA(random_state=42)),\n",
    "                 ('classify', RandomForestClassifier(random_state=42))])\n",
    "\n",
    "N_FEATURES_OPTIONS = list(range(2, 21))\n",
    "N_TREES = [1,2,3]\n",
    "\n",
    "\n",
    "param_grid = [\n",
    "    {\n",
    "        'reduce_dim': [PCA(random_state=42)],\n",
    "        'reduce_dim__n_components': N_FEATURES_OPTIONS,\n",
    "        'classify__n_estimators': N_TREES,\n",
    "        'classify__criterion': [\"gini\", \"entropy\"]\n",
    "    },\n",
    "    {\n",
    "        'reduce_dim': [SelectKBest()],\n",
    "        'reduce_dim__k': N_FEATURES_OPTIONS,\n",
    "        'classify__n_estimators': N_TREES,\n",
    "        'classify__criterion': [\"gini\", \"entropy\"]\n",
    "    },\n",
    "]\n",
    "\n",
    "cv = StratifiedShuffleSplit(random_state=42)\n",
    "grid = GridSearchCV(\n",
    "    pipe, param_grid=param_grid, cv=cv, scoring='f1', n_jobs=-1)\n",
    "\n",
    "grid.fit(X, y)\n",
    "\n",
    "test_classifier(grid.best_estimator_, data_dict, features)"
   ]
  },
  {
   "cell_type": "markdown",
   "metadata": {},
   "source": [
    "Random Forest also has a balanced behavior but the accuracy score is lower compared to KNN"
   ]
  },
  {
   "cell_type": "markdown",
   "metadata": {},
   "source": [
    "#### AdaBoost "
   ]
  },
  {
   "cell_type": "code",
   "execution_count": null,
   "metadata": {},
   "outputs": [],
   "source": [
    "pipe = Pipeline([('reduce_dim', PCA(random_state=42)),\n",
    "                 ('classify', AdaBoostClassifier(random_state=42))])\n",
    "\n",
    "N_FEATURES_OPTIONS = list(range(2, 21))\n",
    "N_ESTIMATORS = [1,10,100]\n",
    "\n",
    "\n",
    "param_grid = [\n",
    "    {\n",
    "        'reduce_dim': [PCA(random_state=42)],\n",
    "        'reduce_dim__n_components': N_FEATURES_OPTIONS,\n",
    "        'classify__n_estimators': N_ESTIMATORS,\n",
    "        'classify__algorithm': ['SAMME', 'SAMME.R']\n",
    "    },\n",
    "    {\n",
    "        'reduce_dim': [SelectKBest()],\n",
    "        'reduce_dim__k': N_FEATURES_OPTIONS,\n",
    "        'classify__n_estimators': N_ESTIMATORS,\n",
    "        'classify__algorithm': ['SAMME', 'SAMME.R']\n",
    "    },\n",
    "]\n",
    "\n",
    "cv = StratifiedShuffleSplit(random_state=42)\n",
    "grid = GridSearchCV(\n",
    "    pipe, param_grid=param_grid, cv=cv, scoring='f1', n_jobs=-1)\n",
    "\n",
    "grid.fit(X, y)\n",
    "\n",
    "test_classifier(grid.best_estimator_, data_dict, features)"
   ]
  },
  {
   "cell_type": "markdown",
   "metadata": {},
   "source": [
    "## Decision Tree"
   ]
  },
  {
   "cell_type": "code",
   "execution_count": null,
   "metadata": {},
   "outputs": [],
   "source": [
    "pipe = Pipeline([('reduce_dim', PCA(random_state=42)),\n",
    "                 ('classify', DecisionTreeClassifier(random_state=42))])\n",
    "\n",
    "N_FEATURES_OPTIONS = list(range(2, 21))\n",
    "\n",
    "\n",
    "\n",
    "param_grid = [\n",
    "    {\n",
    "        'reduce_dim': [PCA(random_state=42)],\n",
    "        'reduce_dim__n_components': N_FEATURES_OPTIONS,\n",
    "        'classify__criterion': [\"gini\", \"entropy\"]\n",
    "    },\n",
    "    {\n",
    "        'reduce_dim': [SelectKBest()],\n",
    "        'reduce_dim__k': N_FEATURES_OPTIONS,\n",
    "        'classify__criterion': [\"gini\", \"entropy\"]\n",
    "    },\n",
    "]\n",
    "\n",
    "cv = StratifiedShuffleSplit(random_state=42)\n",
    "grid = GridSearchCV(\n",
    "    pipe, param_grid=param_grid, cv=cv, scoring='f1', n_jobs=-1)\n",
    "\n",
    "grid.fit(X, y)\n",
    "\n",
    "test_classifier(grid.best_estimator_, data_dict, features)"
   ]
  },
  {
   "cell_type": "markdown",
   "metadata": {},
   "source": [
    "## Algorithm Selection"
   ]
  },
  {
   "cell_type": "markdown",
   "metadata": {},
   "source": [
    "K-Nearest Neighbor's performance is quite strong and we can safely conclude that it is the best classifier in this case.\n",
    "\n",
    "Accuracy: 0.84920\tPrecision: 0.38726\tRecall: 0.22500\tF1: 0.28463\tF2: 0.24558\n",
    "Total predictions: 15000\tTrue positives:  450\tFalse positives:  712\tFalse negatives: 1550\tTrue negatives:12288"
   ]
  },
  {
   "cell_type": "code",
   "execution_count": null,
   "metadata": {},
   "outputs": [],
   "source": [
    "scale = MaxAbsScaler()\n",
    "X_trans = scale.fit_transform(X)\n",
    "pca = PCA(copy=True, iterated_power='auto', n_components=2, random_state=42,\n",
    "  svd_solver='auto', tol=0.0, whiten=False)\n",
    "\n",
    "X_trans = pca.fit_transform(X_trans)\n",
    "y_trans = y.values\n",
    "\n",
    "clf = KNeighborsClassifier(algorithm='auto', leaf_size=30, metric='minkowski',\n",
    "           metric_params=None, n_jobs=1, n_neighbors=3, p=1,\n",
    "           weights='distance')\n",
    "clf.fit(X_trans,y_trans)"
   ]
  },
  {
   "cell_type": "code",
   "execution_count": null,
   "metadata": {},
   "outputs": [],
   "source": [
    "from matplotlib.colors import ListedColormap\n",
    "import matplotlib.patches as mpatches\n",
    "h = .02  #step size in the mesh\n",
    "\n",
    "cmap_light = ListedColormap(['#FFAAAA', '#AAFFAA', '#AAAAFF'])\n",
    "cmap_bold = ListedColormap(['#FF0000', '#00FF00', '#0000FF'])\n",
    "\n",
    "# Plot the decision boundary. For that, we will assign a color to each\n",
    "# point in the mesh [x_min, x_max]x[y_min, y_max].\n",
    "x_min, x_max = X_trans[:, 0].min() - 0.1, X_trans[:, 0].max() + 0.1\n",
    "y_min, y_max = X_trans[:, 1].min() - 0.1, X_trans[:, 1].max() + 0.1\n",
    "xx, yy = np.meshgrid(np.arange(x_min, x_max, h), np.arange(y_min, y_max, h))\n",
    "\n",
    "Z = clf.predict(np.c_[xx.ravel(), yy.ravel()])\n",
    "Z = Z.reshape(xx.shape)\n",
    "fig = plt.figure()\n",
    "plt.pcolormesh(xx, yy, Z, cmap=cmap_light)\n",
    "\n",
    "# Plot the training points\n",
    "plt.scatter(X_trans[:, 0], X_trans[:, 1], c=y_trans, cmap=cmap_bold, alpha=0.3)\n",
    "\n",
    "# Legend Data\n",
    "classes = ['POI','Non-POI']\n",
    "class_colours = ['#0000FF', '#FF0000']\n",
    "recs = []\n",
    "for i in range(0,len(class_colours)):\n",
    "    recs.append(mpatches.Rectangle((0,0),1,1,fc=class_colours[i]))\n",
    "\n",
    "# Plot Legend ('loc' == position):\n",
    "plt.legend(recs,classes,loc=4)\n",
    "\n",
    "plt.title(\"KNN classifier with minkowski metric\")\n",
    "plt.xlabel(\"First Principal Component\")\n",
    "plt.ylabel(\"Second Principal Component\")\n",
    "\n",
    "plt.show()\n",
    "fig.savefig('knn.png')"
   ]
  },
  {
   "cell_type": "markdown",
   "metadata": {},
   "source": [
    "# Project Closure"
   ]
  },
  {
   "cell_type": "markdown",
   "metadata": {},
   "source": [
    "## Dumping files "
   ]
  },
  {
   "cell_type": "code",
   "execution_count": null,
   "metadata": {},
   "outputs": [],
   "source": [
    "dump_classifier_and_data(clf, data_dict, features)"
   ]
  },
  {
   "cell_type": "code",
   "execution_count": null,
   "metadata": {},
   "outputs": [],
   "source": [
    "import tester\n",
    "tester.main()"
   ]
  }
 ],
 "metadata": {
  "kernelspec": {
   "display_name": "Python 2",
   "language": "python",
   "name": "python2"
  },
  "language_info": {
   "codemirror_mode": {
    "name": "ipython",
    "version": 2
   },
   "file_extension": ".py",
   "mimetype": "text/x-python",
   "name": "python",
   "nbconvert_exporter": "python",
   "pygments_lexer": "ipython2",
   "version": "2.7.15rc1"
  }
 },
 "nbformat": 4,
 "nbformat_minor": 2
}
